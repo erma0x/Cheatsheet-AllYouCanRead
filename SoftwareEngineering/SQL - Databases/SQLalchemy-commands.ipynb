{
 "cells": [
  {
   "cell_type": "markdown",
   "metadata": {},
   "source": [
    "Objective: Generate a database in sqlite in memory for the storing of the protein sequences of a given family in PFAM db."
   ]
  },
  {
   "cell_type": "code",
   "execution_count": 2,
   "metadata": {},
   "outputs": [
    {
     "data": {
      "text/plain": [
       "<sqlalchemy.engine.result.ResultProxy at 0x7f7bf8319b20>"
      ]
     },
     "execution_count": 2,
     "metadata": {},
     "output_type": "execute_result"
    }
   ],
   "source": [
    "from sqlalchemy import create_engine\n",
    "\n",
    "db_uri = \"sqlite:///db.sqlite\"\n",
    "engine = create_engine(db_uri)\n",
    "\n",
    "# DBAPI - PEP249\n",
    "# create table\n",
    "engine.execute('CREATE TABLE \"myProteins\" ('\n",
    "               'id INTEGER NOT NULL,'\n",
    "               'name VARCHAR, '\n",
    "               'sequence VARCHAR, '\n",
    "               'PRIMARY KEY (id));')\n"
   ]
  },
  {
   "cell_type": "code",
   "execution_count": 3,
   "metadata": {},
   "outputs": [
    {
     "name": "stdout",
     "output_type": "stream",
     "text": [
      "{'name': 'Hemo', 'id': '6', 'sequence': 'AKKVACS'}\n",
      "{'name': 'Geo', 'id': '8', 'sequence': 'CHIDKK'}\n"
     ]
    }
   ],
   "source": [
    "\n",
    "data = [{'name':'Hemo','id':'6','sequence':'AKKVACS'},\n",
    "        {'name':'Geo','id':'8','sequence':'CHIDKK'}]\n",
    "\n",
    "\n",
    "for protein in data:\n",
    "    # insert a raw\n",
    "    print(protein)\n",
    "    engine.execute(\"\"\"INSERT INTO myProteins \n",
    "                   (name,id,sequence) \n",
    "                   VALUES ('{0}','{1}','{2}')\"\"\".format(protein['name'],protein['id'],protein['sequence']))\n",
    "\n"
   ]
  },
  {
   "cell_type": "code",
   "execution_count": 4,
   "metadata": {},
   "outputs": [
    {
     "name": "stdout",
     "output_type": "stream",
     "text": [
      "[(1, 'Geo', 'CHID'), (4, 'Hemo', 'AKKV')]\n"
     ]
    }
   ],
   "source": [
    "result=engine.execute(\"\"\"SELECT * FROM proteins\"\"\")\n",
    "print(result.fetchall())"
   ]
  }
 ],
 "metadata": {
  "kernelspec": {
   "display_name": "Python 3.8.5 64-bit ('base': conda)",
   "language": "python",
   "name": "python385jvsc74a57bd01dd91c8e78721571222cd43f32bb65a04940adb18eaf67415699b9002d883b66"
  },
  "language_info": {
   "codemirror_mode": {
    "name": "ipython",
    "version": 3
   },
   "file_extension": ".py",
   "mimetype": "text/x-python",
   "name": "python",
   "nbconvert_exporter": "python",
   "pygments_lexer": "ipython3",
   "version": "3.8.5"
  }
 },
 "nbformat": 4,
 "nbformat_minor": 4
}
