{
 "cells": [
  {
   "cell_type": "markdown",
   "metadata": {},
   "source": [
    "## Anaconda commands for a quick start\n",
    "\n",
    "\n",
    "### List user env\n",
    "conda info -e\n",
    "\n",
    "    \n",
    "### Create env\n",
    "conda create -n bioinfo <br>\n",
    "conda create -n bioinfo python=3.6.1 anaconda\n",
    "\n",
    "\n",
    "### Activate env\n",
    "conda activate <env name>\n",
    "\n",
    "\n",
    "### List packages in this env\n",
    "conda list\n",
    "\n",
    "\n",
    "### Exit (deactivate)\n",
    "conda deactivate\n",
    "\n",
    "If I am in the base enviroment (base) and I use conda deactivate I will exit from conda enviroment. <br>\n",
    "**example** <br>\n",
    "    \n",
    " 1. (bioinfo) user@user $ conda deactivate\n",
    " \n",
    " \n",
    " 2. (base) user@user $ conda deactivate \n",
    " \n",
    "    \n",
    "  3. user@user $ <br>\n",
    "\n",
    "\n",
    "### Delete\n",
    "conda remove -n bioinfo --all\n",
    "\n",
    "\n"
   ]
  }
 ],
 "metadata": {
  "kernelspec": {
   "display_name": "Python 3",
   "language": "python",
   "name": "python3"
  },
  "language_info": {
   "codemirror_mode": {
    "name": "ipython",
    "version": 3
   },
   "file_extension": ".py",
   "mimetype": "text/x-python",
   "name": "python",
   "nbconvert_exporter": "python",
   "pygments_lexer": "ipython3",
   "version": "3.8.5"
  }
 },
 "nbformat": 4,
 "nbformat_minor": 4
}
