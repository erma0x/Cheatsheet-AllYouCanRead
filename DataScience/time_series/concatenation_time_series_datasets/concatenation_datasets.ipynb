{
 "cells": [
  {
   "cell_type": "markdown",
   "metadata": {},
   "source": [
    "# Concatenation of csv time series datasets\n",
    "\n",
    "This notebook is meant to merge more\n",
    "CSV files of neighboring and complementary time series. It is intended for time series since, on pd.concat (), the key, keys = \"date\" is used. If in our dataset we don't have the \"date\" column, it is written in another way, or we want to concatenate the datasets on other keys, then we have to change this value and the value of .sort_values ​​(\"date\").\n",
    "\n",
    "1. In the first part the useful books are loaded.\n",
    "2. In the second block, all .csv files located in the same directory as this jupyter file are \"discovered\".\n",
    "3. In the third block, all CSVs found under the \"result\" variable are merged together.\n",
    " \n",
    "\n",
    "Later it is then possible to use this variable for analysis or to save the dataset in a single CSV. The absence of data in the column we are going to do the concatenation, in this case \"date\", can lead to problems. For missing data, the rows will be shifted up, ie the rows in which the date is absent will be omitted. The absence of an header without \"date\" (or another field name of your choice) in the csv file, will generate bugs."
   ]
  },
  {
   "cell_type": "code",
   "execution_count": 1,
   "metadata": {},
   "outputs": [],
   "source": [
    "import pandas as pd\n",
    "import numpy as np\n",
    "import sys\n",
    "import os"
   ]
  },
  {
   "cell_type": "code",
   "execution_count": 2,
   "metadata": {},
   "outputs": [
    {
     "name": "stdout",
     "output_type": "stream",
     "text": [
      " My actual path:  /home/usrname/Desktop/MachineLearning/concatenation_time_series_datasets\n",
      " Name CSV founded:  example_2.csv\n",
      " Name CSV founded:  example_1.csv\n"
     ]
    }
   ],
   "source": [
    "path = sys.path[0]\n",
    "print(\" My actual path: \",path)\n",
    "\n",
    "list_of_dataframes = []\n",
    " \n",
    "for files in os.listdir(path):\n",
    "    if \".csv\" in str(files) and str(files)[-1] != '#':\n",
    "        print(\" Name CSV founded: \",files)\n",
    "        list_of_dataframes.append(pd.read_csv(path+\"/\"+files))\n",
    "        "
   ]
  },
  {
   "cell_type": "code",
   "execution_count": 3,
   "metadata": {},
   "outputs": [],
   "source": [
    "result = pd.concat(\n",
    "    list_of_dataframes,\n",
    "    axis=0,\n",
    "    join=\"outer\",\n",
    "    ignore_index=True,\n",
    "    keys='date',\n",
    "    copy=True,\n",
    ").sort_values('date')"
   ]
  },
  {
   "cell_type": "code",
   "execution_count": 4,
   "metadata": {},
   "outputs": [
    {
     "data": {
      "text/html": [
       "<div>\n",
       "<style scoped>\n",
       "    .dataframe tbody tr th:only-of-type {\n",
       "        vertical-align: middle;\n",
       "    }\n",
       "\n",
       "    .dataframe tbody tr th {\n",
       "        vertical-align: top;\n",
       "    }\n",
       "\n",
       "    .dataframe thead th {\n",
       "        text-align: right;\n",
       "    }\n",
       "</style>\n",
       "<table border=\"1\" class=\"dataframe\">\n",
       "  <thead>\n",
       "    <tr style=\"text-align: right;\">\n",
       "      <th></th>\n",
       "      <th>date</th>\n",
       "      <th>x</th>\n",
       "    </tr>\n",
       "  </thead>\n",
       "  <tbody>\n",
       "    <tr>\n",
       "      <th>3</th>\n",
       "      <td>3.4.2020</td>\n",
       "      <td>1</td>\n",
       "    </tr>\n",
       "    <tr>\n",
       "      <th>4</th>\n",
       "      <td>3.5.2020</td>\n",
       "      <td>2</td>\n",
       "    </tr>\n",
       "    <tr>\n",
       "      <th>5</th>\n",
       "      <td>3.6.2020</td>\n",
       "      <td>3</td>\n",
       "    </tr>\n",
       "    <tr>\n",
       "      <th>0</th>\n",
       "      <td>3.7.2020</td>\n",
       "      <td>14</td>\n",
       "    </tr>\n",
       "    <tr>\n",
       "      <th>1</th>\n",
       "      <td>3.8.2020</td>\n",
       "      <td>2</td>\n",
       "    </tr>\n",
       "    <tr>\n",
       "      <th>2</th>\n",
       "      <td>3.9.2020</td>\n",
       "      <td>165</td>\n",
       "    </tr>\n",
       "  </tbody>\n",
       "</table>\n",
       "</div>"
      ],
      "text/plain": [
       "       date    x\n",
       "3  3.4.2020    1\n",
       "4  3.5.2020    2\n",
       "5  3.6.2020    3\n",
       "0  3.7.2020   14\n",
       "1  3.8.2020    2\n",
       "2  3.9.2020  165"
      ]
     },
     "execution_count": 4,
     "metadata": {},
     "output_type": "execute_result"
    }
   ],
   "source": [
    "result"
   ]
  }
 ],
 "metadata": {
  "kernelspec": {
   "display_name": "Python 3",
   "language": "python",
   "name": "python3"
  },
  "language_info": {
   "codemirror_mode": {
    "name": "ipython",
    "version": 3
   },
   "file_extension": ".py",
   "mimetype": "text/x-python",
   "name": "python",
   "nbconvert_exporter": "python",
   "pygments_lexer": "ipython3",
   "version": "3.8.6"
  }
 },
 "nbformat": 4,
 "nbformat_minor": 4
}
