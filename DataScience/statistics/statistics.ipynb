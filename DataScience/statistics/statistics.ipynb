{
 "cells": [
  {
   "cell_type": "markdown",
   "metadata": {},
   "source": [
    "# <font color=red> Statistical Analysis</font> <br>\n"
   ]
  },
  {
   "cell_type": "markdown",
   "metadata": {},
   "source": [
    "\n",
    "### **Types of analysis:**\n",
    "    \n",
    "> **Prescritive**: What should we do? Help out to prescribe the right course of action of an event\n",
    "    \n",
    ">**Descriptive**: What happened? How things are going on\n",
    "    \n",
    "> **Predictive**: What might happen? Tell us the probability happen in the future as a particoular result"
   ]
  },
  {
   "cell_type": "markdown",
   "metadata": {},
   "source": [
    "### Algorithm: How solve a problem?\n",
    "  1. Descrive the problem: \n",
    "         -setup each detail of the problem\n",
    "  2. Planning the work:\n",
    "         -analyze the problem\n",
    "         -estimate the effort\n",
    "         -build a business case\n",
    "         -ask the data quality\n",
    "  3. Process\n",
    "         -grab it\n",
    "         -store it\n",
    "         -clean it\n",
    "         -analyze it \n",
    "         -visualize it\n",
    "         -interpret it"
   ]
  },
  {
   "cell_type": "code",
   "execution_count": null,
   "metadata": {},
   "outputs": [],
   "source": [
    "Workflow of Data Science:\n",
    "The phases of the CRISP-DM process are\n",
    "1. Business Understanding\n",
    "2. Data Understanding\n",
    "3. Data Preparation\n",
    "4. Modeling\n",
    "5. Evaluation\n",
    "6. Deployment (using models in everyday business)"
   ]
  },
  {
   "cell_type": "markdown",
   "metadata": {},
   "source": [
    "### Architectures Analytics\n",
    "- Traditional Analytics:\n",
    "        -Use ETL method: \n",
    "            Extract, Transform, Load\n",
    "        -supports lots of demand\n",
    "        -for big implamentation\n",
    "- Big Data Analytics:\n",
    "        -for unstructured data\n",
    "        -can be very fast\n",
    "        -might use cluster of computers\n",
    "        -might use Apache Hadoop architecture\n",
    "- Excel Powr User\n",
    "        -flexible\n",
    "        -affordable\n",
    "        -limited users"
   ]
  },
  {
   "cell_type": "markdown",
   "metadata": {},
   "source": [
    "### Case Study\n",
    "\n",
    "    -Take public demographic data.\n",
    "    -Build a statistical model to segment custumers.\n",
    "    -Based on the custumers class, give a specificed offer.\n"
   ]
  },
  {
   "cell_type": "markdown",
   "metadata": {},
   "source": [
    "## Statistical test with or without parameters:\n",
    "    • Saphiro\n",
    "    • Odds Rateo\n",
    "    • Median test \n",
    "    • Chi square for indipendent sampling\n",
    "    • Chi square distribution appromiximation\n",
    "    • T-test\n",
    "    • Z-test\n",
    "    • R-square\n",
    "    • Pearson index\n",
    "    • Covariance\n",
    "    • Correlation\n",
    "    • Anova\n",
    "    • Bonferroni"
   ]
  },
  {
   "cell_type": "markdown",
   "metadata": {},
   "source": [
    "### Challenges\n",
    "\n",
    "    -Data Cleaning\n",
    "    -Data Unsturctured\n",
    "    -Data Volumes\n",
    "    \n",
    " If the problem produces poor data, the analytics will be meaningfull"
   ]
  },
  {
   "cell_type": "markdown",
   "metadata": {},
   "source": [
    "### Tips\n",
    "\n",
    "    -Provide actual raccomendation to the business manager\n",
    "    -Allow your business freedom to explore the Data Set\n",
    "    -Don't dismiss expert advice, Data Science has to collaborate with every expert.\n",
    "    -Break problem into smaller pieces and deliver data insights often.\n",
    "    -Keep a data dictionary: tables, schemas, sources, data types, load types.\n",
    "    -Don't get too rigid with your architecture.\n",
    "    -Master pivot tables in Excel, and other stats tools.\n",
    "    "
   ]
  },
  {
   "cell_type": "markdown",
   "metadata": {},
   "source": [
    "### Degrees of Freedom\n",
    "When I don't know the parameters of the distribution, for each parameter that I don't know I add a degree of freedom \n",
    "\n",
    "D.F. = N - K \n",
    "\n",
    "    N = number of data point\n",
    "    K = parameters that I don't know"
   ]
  }
 ],
 "metadata": {
  "kernelspec": {
   "display_name": "Python 3 (ipykernel)",
   "language": "python",
   "name": "python3"
  },
  "language_info": {
   "codemirror_mode": {
    "name": "ipython",
    "version": 3
   },
   "file_extension": ".py",
   "mimetype": "text/x-python",
   "name": "python",
   "nbconvert_exporter": "python",
   "pygments_lexer": "ipython3",
   "version": "3.7.11"
  }
 },
 "nbformat": 4,
 "nbformat_minor": 4
}
